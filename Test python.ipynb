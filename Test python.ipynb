{
 "cells": [
  {
   "cell_type": "code",
   "execution_count": 1,
   "metadata": {},
   "outputs": [
    {
     "name": "stdout",
     "output_type": "stream",
     "text": [
      "practise summative3\n"
     ]
    }
   ],
   "source": [
    "trial1 = \"Please be a conflict\"\n",
    "\n",
    "print(trial1)\n",
    "\n",
    "trial2 = \"pretty please\"\n",
    "\n",
    "print(trial2)"
   ]
  },
  {
   "cell_type": "code",
   "execution_count": null,
   "metadata": {},
   "outputs": [],
   "source": [
    "class Product(object):\n",
    "    \"\"\"DocString to define class.\"\"\" \n",
    "    # DocString, not comments. DocStrings are for users, and will travel with the class.\n",
    "    # Information about the implemention (not abstraction) giving concrete meaning \n",
    "    # to the abstract methods.   \n",
    "    \n",
    "    # Special Method: Always FIRST\n",
    "    def __init__(self, vals):\n",
    "        \"\"\"Create a new instance from class.\"\"\"\n",
    "        \n",
    "        # \"__\" is two underscores. \n",
    "        # A constructor method is a special function that creates an instance of the class.\n",
    "        # Any initalising you would like to do with your class object.\n",
    "        # Data attributes are defined here with the \"self.\" prefix\n",
    "        self.vals = vals\n",
    "    \n",
    "    def class_methods(self, arg):\n",
    "        \"\"\"DocString to describe method.\"\"\"\n",
    "        \n",
    "        # Some methods that do something. Get() and set() methods are common.\n",
    "        # Self is used to represent the instance of the class. \n",
    "        # When working out the structure we can originally just leave \"pass\".\n",
    "        pass\n",
    "    \n",
    "    # Special Method: Always LAST\n",
    "    def __str__(self): \n",
    "        \"\"\"Return a string representation of object.\"\"\"\n",
    "        \n",
    "        # Define here how you want the Class Instance to be printed. \n",
    "        # Otherwise, you will get the location (where the Class Instance is stored)\n",
    "        return sorted(self.vals)"
   ]
  }
 ],
 "metadata": {
  "kernelspec": {
   "display_name": "Python 3",
   "language": "python",
   "name": "python3"
  },
  "language_info": {
   "codemirror_mode": {
    "name": "ipython",
    "version": 3
   },
   "file_extension": ".py",
   "mimetype": "text/x-python",
   "name": "python",
   "nbconvert_exporter": "python",
   "pygments_lexer": "ipython3",
   "version": "3.11.4"
  }
 },
 "nbformat": 4,
 "nbformat_minor": 2
}
